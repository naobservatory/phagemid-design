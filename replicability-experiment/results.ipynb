{
 "cells": [
  {
   "cell_type": "code",
   "execution_count": 24,
   "id": "fb459982",
   "metadata": {},
   "outputs": [],
   "source": [
    "import numpy as np\n",
    "import pandas as pd\n",
    "import seaborn as sns\n",
    "import matplotlib.pyplot as plt"
   ]
  },
  {
   "cell_type": "code",
   "execution_count": 25,
   "id": "6ad3eae5",
   "metadata": {},
   "outputs": [],
   "source": [
    "data = pd.read_csv(\"data.csv\")\n",
    "data = data[['sample','cfu_per_ug']]"
   ]
  },
  {
   "cell_type": "code",
   "execution_count": 26,
   "id": "8eacb704",
   "metadata": {},
   "outputs": [],
   "source": [
    "data['cfu_per_ug'] = data['cfu_per_ug'].replace(0,1)"
   ]
  },
  {
   "cell_type": "code",
   "execution_count": 27,
   "id": "84be428d",
   "metadata": {},
   "outputs": [],
   "source": [
    "data['sample'] = data['sample'].replace('pir-116, pUC','pir-116 \\n pHSG299')\n",
    "data['sample'] = data['sample'].replace('DH10B, A01','DH10B \\n Phagemid')\n",
    "data['sample'] = data['sample'].replace('pir-116, A01','pir-116 \\n Phagemid')\n",
    "data['sample'] = data['sample'].replace('DH10B, pUC','DH10B \\n pHSG299')"
   ]
  },
  {
   "cell_type": "code",
   "execution_count": 28,
   "id": "ede56102",
   "metadata": {},
   "outputs": [],
   "source": [
    "data_summary = data.groupby('sample').agg(mean_value=('cfu_per_ug', 'mean'), std_value=('cfu_per_ug', 'std')).reset_index()"
   ]
  },
  {
   "cell_type": "code",
   "execution_count": 33,
   "id": "4fb74f86",
   "metadata": {},
   "outputs": [
    {
     "data": {
      "image/png": "[encoded data removed]",
      "text/plain": [
       "<Figure size 600x400 with 1 Axes>"
      ]
     },
     "metadata": {},
     "output_type": "display_data"
    }
   ],
   "source": [
    "custom_colors = ['#26bfed', '#FFFFFF', '#20b224', '#4dcc23']\n",
    "\n",
    "plt.rcParams['font.family'] = 'Helvetica'\n",
    "plt.rcParams.update({'font.size': 14})\n",
    "plt.figure(figsize=(6, 4))\n",
    "plt.rcParams['text.usetex'] = True\n",
    "plt.rcParams['svg.fonttype'] = 'none'\n",
    "\n",
    "sns.barplot(x='sample', y='cfu_per_ug', data=data, ci='sd', capsize=.1, \n",
    "            errwidth=1.0, errcolor='black', \n",
    "            order = ['DH10B \\n pHSG299','DH10B \\n Phagemid','pir-116 \\n pHSG299','pir-116 \\n Phagemid'], palette=custom_colors)\n",
    "plt.yscale('log')\n",
    "plt.ylim([1,1E7])\n",
    "\n",
    "ax = plt.gca()\n",
    "ax.spines['left'].set_color('black')\n",
    "ax.spines['bottom'].set_color('black')\n",
    "ax.spines['right'].set_color('white')\n",
    "ax.spines['top'].set_color('white')\n",
    "    \n",
    "plt.xlabel('\\n Group')\n",
    "plt.ylabel('CFU/ug')\n",
    "\n",
    "plt.savefig('replicability_results.pdf')\n",
    "plt.show()"
   ]
  },
  {
   "cell_type": "code",
   "execution_count": null,
   "id": "4da3c4d2",
   "metadata": {},
   "outputs": [],
   "source": []
  }
 ],
 "metadata": {
  "kernelspec": {
   "display_name": "Python 3 (ipykernel)",
   "language": "python",
   "name": "python3"
  },
  "language_info": {
   "codemirror_mode": {
    "name": "ipython",
    "version": 3
   },
   "file_extension": ".py",
   "mimetype": "text/x-python",
   "name": "python",
   "nbconvert_exporter": "python",
   "pygments_lexer": "ipython3",
   "version": "3.9.13"
  }
 },
 "nbformat": 4,
 "nbformat_minor": 5
}
