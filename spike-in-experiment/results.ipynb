{
 "cells": [
  {
   "cell_type": "markdown",
   "id": "16cf25e3",
   "metadata": {},
   "source": [
    "# Spike-in preliminary Analysis"
   ]
  },
  {
   "cell_type": "code",
   "execution_count": 9,
   "id": "0bdcc66c",
   "metadata": {},
   "outputs": [],
   "source": [
    "import numpy as np\n",
    "import pandas as pd\n",
    "import matplotlib.pyplot as plt\n",
    "from scipy import stats"
   ]
  },
  {
   "cell_type": "code",
   "execution_count": 10,
   "id": "7604b7de",
   "metadata": {},
   "outputs": [],
   "source": [
    "serial_dilution_values = pd.read_csv(\"data/serial_dilution_values.csv\")"
   ]
  },
  {
   "cell_type": "code",
   "execution_count": 11,
   "id": "c44d06c9",
   "metadata": {},
   "outputs": [
    {
     "data": {
      "text/html": [
       "<div>\n",
       "<style scoped>\n",
       "    .dataframe tbody tr th:only-of-type {\n",
       "        vertical-align: middle;\n",
       "    }\n",
       "\n",
       "    .dataframe tbody tr th {\n",
       "        vertical-align: top;\n",
       "    }\n",
       "\n",
       "    .dataframe thead th {\n",
       "        text-align: right;\n",
       "    }\n",
       "</style>\n",
       "<table border=\"1\" class=\"dataframe\">\n",
       "  <thead>\n",
       "    <tr style=\"text-align: right;\">\n",
       "      <th></th>\n",
       "      <th>Dilution</th>\n",
       "      <th>Stock Concentration</th>\n",
       "      <th>WW Concentration</th>\n",
       "      <th>Dilution Amount</th>\n",
       "    </tr>\n",
       "  </thead>\n",
       "  <tbody>\n",
       "    <tr>\n",
       "      <th>0</th>\n",
       "      <td>1</td>\n",
       "      <td>5.500000e+08</td>\n",
       "      <td>5.500000e+06</td>\n",
       "      <td>NaN</td>\n",
       "    </tr>\n",
       "    <tr>\n",
       "      <th>1</th>\n",
       "      <td>2</td>\n",
       "      <td>2.750000e+07</td>\n",
       "      <td>2.750000e+05</td>\n",
       "      <td>1:20</td>\n",
       "    </tr>\n",
       "    <tr>\n",
       "      <th>2</th>\n",
       "      <td>3</td>\n",
       "      <td>1.380000e+06</td>\n",
       "      <td>1.380000e+04</td>\n",
       "      <td>1:20</td>\n",
       "    </tr>\n",
       "    <tr>\n",
       "      <th>3</th>\n",
       "      <td>4</td>\n",
       "      <td>6.880000e+04</td>\n",
       "      <td>6.880000e+02</td>\n",
       "      <td>1:20</td>\n",
       "    </tr>\n",
       "    <tr>\n",
       "      <th>4</th>\n",
       "      <td>5</td>\n",
       "      <td>3.440000e+03</td>\n",
       "      <td>3.440000e+01</td>\n",
       "      <td>1:20</td>\n",
       "    </tr>\n",
       "    <tr>\n",
       "      <th>5</th>\n",
       "      <td>6</td>\n",
       "      <td>1.720000e+02</td>\n",
       "      <td>1.720000e+00</td>\n",
       "      <td>1:20</td>\n",
       "    </tr>\n",
       "    <tr>\n",
       "      <th>6</th>\n",
       "      <td>7</td>\n",
       "      <td>8.590000e+00</td>\n",
       "      <td>8.590000e-02</td>\n",
       "      <td>1:20</td>\n",
       "    </tr>\n",
       "    <tr>\n",
       "      <th>7</th>\n",
       "      <td>8</td>\n",
       "      <td>0.000000e+00</td>\n",
       "      <td>0.000000e+00</td>\n",
       "      <td>NaN</td>\n",
       "    </tr>\n",
       "  </tbody>\n",
       "</table>\n",
       "</div>"
      ],
      "text/plain": [
       "   Dilution  Stock Concentration  WW Concentration Dilution Amount\n",
       "0         1         5.500000e+08      5.500000e+06             NaN\n",
       "1         2         2.750000e+07      2.750000e+05            1:20\n",
       "2         3         1.380000e+06      1.380000e+04            1:20\n",
       "3         4         6.880000e+04      6.880000e+02            1:20\n",
       "4         5         3.440000e+03      3.440000e+01            1:20\n",
       "5         6         1.720000e+02      1.720000e+00            1:20\n",
       "6         7         8.590000e+00      8.590000e-02            1:20\n",
       "7         8         0.000000e+00      0.000000e+00             NaN"
      ]
     },
     "execution_count": 11,
     "metadata": {},
     "output_type": "execute_result"
    }
   ],
   "source": [
    "serial_dilution_values"
   ]
  },
  {
   "cell_type": "code",
   "execution_count": 12,
   "id": "b8dd91cc",
   "metadata": {},
   "outputs": [],
   "source": [
    "ww_dilutions = serial_dilution_values['WW Concentration'][:-1] # in uL\n",
    "\n",
    "ww_dilutions = ww_dilutions * 1000.0 # in mL\n",
    "\n",
    "ww_dilutions = np.log10(ww_dilutions) # log base 10"
   ]
  },
  {
   "cell_type": "code",
   "execution_count": 13,
   "id": "a12944f7",
   "metadata": {},
   "outputs": [],
   "source": [
    "ww_dilutions_df = pd.DataFrame({'Dilution': serial_dilution_values['Dilution'][:-1], 'Concentration': ww_dilutions})"
   ]
  },
  {
   "cell_type": "code",
   "execution_count": 14,
   "id": "0754767c",
   "metadata": {},
   "outputs": [
    {
     "data": {
      "text/html": [
       "<div>\n",
       "<style scoped>\n",
       "    .dataframe tbody tr th:only-of-type {\n",
       "        vertical-align: middle;\n",
       "    }\n",
       "\n",
       "    .dataframe tbody tr th {\n",
       "        vertical-align: top;\n",
       "    }\n",
       "\n",
       "    .dataframe thead th {\n",
       "        text-align: right;\n",
       "    }\n",
       "</style>\n",
       "<table border=\"1\" class=\"dataframe\">\n",
       "  <thead>\n",
       "    <tr style=\"text-align: right;\">\n",
       "      <th></th>\n",
       "      <th>Dilution</th>\n",
       "      <th>Concentration</th>\n",
       "    </tr>\n",
       "  </thead>\n",
       "  <tbody>\n",
       "    <tr>\n",
       "      <th>0</th>\n",
       "      <td>1</td>\n",
       "      <td>9.740363</td>\n",
       "    </tr>\n",
       "    <tr>\n",
       "      <th>1</th>\n",
       "      <td>2</td>\n",
       "      <td>8.439333</td>\n",
       "    </tr>\n",
       "    <tr>\n",
       "      <th>2</th>\n",
       "      <td>3</td>\n",
       "      <td>7.139879</td>\n",
       "    </tr>\n",
       "    <tr>\n",
       "      <th>3</th>\n",
       "      <td>4</td>\n",
       "      <td>5.837588</td>\n",
       "    </tr>\n",
       "    <tr>\n",
       "      <th>4</th>\n",
       "      <td>5</td>\n",
       "      <td>4.536558</td>\n",
       "    </tr>\n",
       "  </tbody>\n",
       "</table>\n",
       "</div>"
      ],
      "text/plain": [
       "   Dilution  Concentration\n",
       "0         1       9.740363\n",
       "1         2       8.439333\n",
       "2         3       7.139879\n",
       "3         4       5.837588\n",
       "4         5       4.536558"
      ]
     },
     "execution_count": 14,
     "metadata": {},
     "output_type": "execute_result"
    }
   ],
   "source": [
    "ww_dilutions_df.head()"
   ]
  },
  {
   "cell_type": "code",
   "execution_count": 15,
   "id": "bd6ebbe3",
   "metadata": {},
   "outputs": [],
   "source": [
    "data = pd.read_csv(\"data/sample_vs_ct.csv\")\n",
    "data.columns = ['Dilution','CT']"
   ]
  },
  {
   "cell_type": "code",
   "execution_count": 16,
   "id": "3fbfc0b1",
   "metadata": {},
   "outputs": [
    {
     "data": {
      "text/html": [
       "<div>\n",
       "<style scoped>\n",
       "    .dataframe tbody tr th:only-of-type {\n",
       "        vertical-align: middle;\n",
       "    }\n",
       "\n",
       "    .dataframe tbody tr th {\n",
       "        vertical-align: top;\n",
       "    }\n",
       "\n",
       "    .dataframe thead th {\n",
       "        text-align: right;\n",
       "    }\n",
       "</style>\n",
       "<table border=\"1\" class=\"dataframe\">\n",
       "  <thead>\n",
       "    <tr style=\"text-align: right;\">\n",
       "      <th></th>\n",
       "      <th>Dilution</th>\n",
       "      <th>CT</th>\n",
       "    </tr>\n",
       "  </thead>\n",
       "  <tbody>\n",
       "    <tr>\n",
       "      <th>0</th>\n",
       "      <td>1</td>\n",
       "      <td>11.557</td>\n",
       "    </tr>\n",
       "    <tr>\n",
       "      <th>1</th>\n",
       "      <td>1</td>\n",
       "      <td>11.811</td>\n",
       "    </tr>\n",
       "    <tr>\n",
       "      <th>2</th>\n",
       "      <td>1</td>\n",
       "      <td>11.928</td>\n",
       "    </tr>\n",
       "    <tr>\n",
       "      <th>3</th>\n",
       "      <td>2</td>\n",
       "      <td>15.864</td>\n",
       "    </tr>\n",
       "    <tr>\n",
       "      <th>4</th>\n",
       "      <td>2</td>\n",
       "      <td>15.840</td>\n",
       "    </tr>\n",
       "  </tbody>\n",
       "</table>\n",
       "</div>"
      ],
      "text/plain": [
       "   Dilution      CT\n",
       "0         1  11.557\n",
       "1         1  11.811\n",
       "2         1  11.928\n",
       "3         2  15.864\n",
       "4         2  15.840"
      ]
     },
     "execution_count": 16,
     "metadata": {},
     "output_type": "execute_result"
    }
   ],
   "source": [
    "data.head()"
   ]
  },
  {
   "cell_type": "code",
   "execution_count": 17,
   "id": "2e08894b",
   "metadata": {},
   "outputs": [],
   "source": [
    "data = pd.merge(data, ww_dilutions_df, how='left', on='Dilution')\n"
   ]
  },
  {
   "cell_type": "code",
   "execution_count": 18,
   "id": "f15f036b",
   "metadata": {},
   "outputs": [
    {
     "data": {
      "text/html": [
       "<div>\n",
       "<style scoped>\n",
       "    .dataframe tbody tr th:only-of-type {\n",
       "        vertical-align: middle;\n",
       "    }\n",
       "\n",
       "    .dataframe tbody tr th {\n",
       "        vertical-align: top;\n",
       "    }\n",
       "\n",
       "    .dataframe thead th {\n",
       "        text-align: right;\n",
       "    }\n",
       "</style>\n",
       "<table border=\"1\" class=\"dataframe\">\n",
       "  <thead>\n",
       "    <tr style=\"text-align: right;\">\n",
       "      <th></th>\n",
       "      <th>Dilution</th>\n",
       "      <th>CT</th>\n",
       "      <th>Concentration</th>\n",
       "    </tr>\n",
       "  </thead>\n",
       "  <tbody>\n",
       "    <tr>\n",
       "      <th>0</th>\n",
       "      <td>1</td>\n",
       "      <td>11.557</td>\n",
       "      <td>9.740363</td>\n",
       "    </tr>\n",
       "    <tr>\n",
       "      <th>1</th>\n",
       "      <td>1</td>\n",
       "      <td>11.811</td>\n",
       "      <td>9.740363</td>\n",
       "    </tr>\n",
       "    <tr>\n",
       "      <th>2</th>\n",
       "      <td>1</td>\n",
       "      <td>11.928</td>\n",
       "      <td>9.740363</td>\n",
       "    </tr>\n",
       "    <tr>\n",
       "      <th>3</th>\n",
       "      <td>2</td>\n",
       "      <td>15.864</td>\n",
       "      <td>8.439333</td>\n",
       "    </tr>\n",
       "    <tr>\n",
       "      <th>4</th>\n",
       "      <td>2</td>\n",
       "      <td>15.840</td>\n",
       "      <td>8.439333</td>\n",
       "    </tr>\n",
       "    <tr>\n",
       "      <th>...</th>\n",
       "      <td>...</td>\n",
       "      <td>...</td>\n",
       "      <td>...</td>\n",
       "    </tr>\n",
       "    <tr>\n",
       "      <th>58</th>\n",
       "      <td>6</td>\n",
       "      <td>33.594</td>\n",
       "      <td>3.235528</td>\n",
       "    </tr>\n",
       "    <tr>\n",
       "      <th>59</th>\n",
       "      <td>6</td>\n",
       "      <td>33.552</td>\n",
       "      <td>3.235528</td>\n",
       "    </tr>\n",
       "    <tr>\n",
       "      <th>60</th>\n",
       "      <td>7</td>\n",
       "      <td>36.826</td>\n",
       "      <td>1.933993</td>\n",
       "    </tr>\n",
       "    <tr>\n",
       "      <th>61</th>\n",
       "      <td>7</td>\n",
       "      <td>36.458</td>\n",
       "      <td>1.933993</td>\n",
       "    </tr>\n",
       "    <tr>\n",
       "      <th>62</th>\n",
       "      <td>7</td>\n",
       "      <td>36.755</td>\n",
       "      <td>1.933993</td>\n",
       "    </tr>\n",
       "  </tbody>\n",
       "</table>\n",
       "<p>63 rows × 3 columns</p>\n",
       "</div>"
      ],
      "text/plain": [
       "    Dilution      CT  Concentration\n",
       "0          1  11.557       9.740363\n",
       "1          1  11.811       9.740363\n",
       "2          1  11.928       9.740363\n",
       "3          2  15.864       8.439333\n",
       "4          2  15.840       8.439333\n",
       "..       ...     ...            ...\n",
       "58         6  33.594       3.235528\n",
       "59         6  33.552       3.235528\n",
       "60         7  36.826       1.933993\n",
       "61         7  36.458       1.933993\n",
       "62         7  36.755       1.933993\n",
       "\n",
       "[63 rows x 3 columns]"
      ]
     },
     "execution_count": 18,
     "metadata": {},
     "output_type": "execute_result"
    }
   ],
   "source": [
    "data"
   ]
  },
  {
   "cell_type": "code",
   "execution_count": 23,
   "id": "89a6b92f",
   "metadata": {},
   "outputs": [
    {
     "data": {
      "image/png": "[encoded data removed]",
      "text/plain": [
       "<Figure size 640x480 with 1 Axes>"
      ]
     },
     "metadata": {},
     "output_type": "display_data"
    }
   ],
   "source": [
    "plt.rcParams['font.family'] = 'Helvetica'\n",
    "plt.rcParams.update({'font.size': 18})\n",
    "plt.rcParams['svg.fonttype'] = 'none'\n",
    "\n",
    "plt.plot(data['Concentration'],data['CT'],'.b')\n",
    "plt.xlabel(\"Concentration \\n ($log_{10}$ particles/mL)\")\n",
    "plt.ylabel(\"Threshold Cycle\")\n",
    "\n",
    "\n",
    "slope, intercept, r_value, p_value, std_err = stats.linregress(data['Concentration'], data['CT'])\n",
    "trendline = np.arange(1,12)*slope + intercept;\n",
    "\n",
    "equation = 'y = '+str(np.round(slope,3))+'x + '+ str(np.round(intercept,3));\n",
    "\n",
    "E = (-1 + 10**(-1/slope))*100\n",
    "\n",
    "ax = plt.gca()\n",
    "ax.spines['left'].set_color('black')\n",
    "ax.spines['bottom'].set_color('black')\n",
    "ax.spines['right'].set_color('white')\n",
    "ax.spines['top'].set_color('white')\n",
    "\n",
    "plt.plot(np.arange(1,12),trendline,'--k')\n",
    "plt.savefig('results.pdf')\n",
    "plt.show()"
   ]
  },
  {
   "cell_type": "code",
   "execution_count": 21,
   "id": "76ce72e5",
   "metadata": {},
   "outputs": [
    {
     "name": "stdout",
     "output_type": "stream",
     "text": [
      "R^2 = 0.999, Efficiency = 101.687\n"
     ]
    }
   ],
   "source": [
    "r2 = abs(np.round(r_value,3))\n",
    "efficiency = np.round(E,3)\n",
    "\n",
    "print(f'''R^2 = {r2}, Efficiency = {efficiency}''')\n"
   ]
  }
 ],
 "metadata": {
  "kernelspec": {
   "display_name": "Python 3 (ipykernel)",
   "language": "python",
   "name": "python3"
  },
  "language_info": {
   "codemirror_mode": {
    "name": "ipython",
    "version": 3
   },
   "file_extension": ".py",
   "mimetype": "text/x-python",
   "name": "python",
   "nbconvert_exporter": "python",
   "pygments_lexer": "ipython3",
   "version": "3.9.13"
  }
 },
 "nbformat": 4,
 "nbformat_minor": 5
}
